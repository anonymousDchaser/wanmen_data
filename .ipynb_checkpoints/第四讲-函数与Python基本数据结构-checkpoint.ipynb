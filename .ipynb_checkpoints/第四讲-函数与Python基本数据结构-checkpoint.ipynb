{
 "cells": [
  {
   "cell_type": "markdown",
   "metadata": {},
   "source": [
    "# 函数铺垫"
   ]
  },
  {
   "cell_type": "code",
   "execution_count": 36,
   "metadata": {
    "scrolled": true
   },
   "outputs": [
    {
     "name": "stdout",
     "output_type": "stream",
     "text": [
      "//game.gtimg.cn/images/yxzj/img201606/heroimg/524/524.jpg\n",
      "蒙犽\n"
     ]
    }
   ],
   "source": [
    "page_adc_hero = '''<ul class=\"herolist clearfix\">\n",
    "<li><a href=\"herodetail/524.shtml\" target=\"_blank\"><img src=\"//game.gtimg.cn/images/yxzj/img201606/heroimg/524/524.jpg\" width=\"91\" height=\"91\" alt=\"蒙犽\">蒙犽</a></li>\n",
    "<li><a href=\"herodetail/508.shtml\" target=\"_blank\"><img src=\"//game.gtimg.cn/images/yxzj/img201606/heroimg/508/508.jpg\" width=\"91\" height=\"91\" alt=\"伽罗\">伽罗</a></li>\n",
    "<li><a href=\"herodetail/199.shtml\" target=\"_blank\"><img src=\"//game.gtimg.cn/images/yxzj/img201606/heroimg/199/199.jpg\" width=\"91\" height=\"91\" alt=\"公孙离\">公孙离</a></li>\n",
    "<li><a href=\"herodetail/196.shtml\" target=\"_blank\"><img src=\"//game.gtimg.cn/images/yxzj/img201606/heroimg/196/196.jpg\" width=\"91\" height=\"91\" alt=\"百里守约\">百里守约</a></li>\n",
    "<li><a href=\"herodetail/192.shtml\" target=\"_blank\"><img src=\"//game.gtimg.cn/images/yxzj/img201606/heroimg/192/192.jpg\" width=\"91\" height=\"91\" alt=\"黄忠\">黄忠</a></li>\n",
    "<li><a href=\"herodetail/177.shtml\" target=\"_blank\"><img src=\"//game.gtimg.cn/images/yxzj/img201606/heroimg/177/177.jpg\" width=\"91\" height=\"91\" alt=\"成吉思汗\">成吉思汗</a></li>\n",
    "<li><a href=\"herodetail/174.shtml\" target=\"_blank\"><img src=\"//game.gtimg.cn/images/yxzj/img201606/heroimg/174/174.jpg\" width=\"91\" height=\"91\" alt=\"虞姬\">虞姬</a></li>\n",
    "<li><a href=\"herodetail/173.shtml\" target=\"_blank\"><img src=\"//game.gtimg.cn/images/yxzj/img201606/heroimg/173/173.jpg\" width=\"91\" height=\"91\" alt=\"李元芳\">李元芳</a></li>\n",
    "<li><a href=\"herodetail/169.shtml\" target=\"_blank\"><img src=\"//game.gtimg.cn/images/yxzj/img201606/heroimg/169/169.jpg\" width=\"91\" height=\"91\" alt=\"后羿\">后羿</a></li>\n",
    "<li><a href=\"herodetail/133.shtml\" target=\"_blank\"><img src=\"//game.gtimg.cn/images/yxzj/img201606/heroimg/133/133.jpg\" width=\"91\" height=\"91\" alt=\"狄仁杰\">狄仁杰</a></li>\n",
    "<li><a href=\"herodetail/132.shtml\" target=\"_blank\"><img src=\"//game.gtimg.cn/images/yxzj/img201606/heroimg/132/132.jpg\" width=\"91\" height=\"91\" alt=\"马可波罗\">马可波罗</a></li>\n",
    "<li><a href=\"herodetail/112.shtml\" target=\"_blank\"><img src=\"//game.gtimg.cn/images/yxzj/img201606/heroimg/112/112.jpg\" width=\"91\" height=\"91\" alt=\"鲁班七号\">鲁班七号</a></li>\n",
    "<li><a href=\"herodetail/111.shtml\" target=\"_blank\"><img src=\"//game.gtimg.cn/images/yxzj/img201606/heroimg/111/111.jpg\" width=\"91\" height=\"91\" alt=\"孙尚香\">孙尚香</a></li></ul>'''\n",
    "start_link = page_adc_hero.find('img src=\"')\n",
    "start_quote = page_adc_hero.find('\"',start_link)\n",
    "end_quote = page_adc_hero.find('\"',start_quote+1)\n",
    "\n",
    "print(page_adc_hero[start_quote+1:end_quote])\n",
    "\n",
    "start_name = page_adc_hero.find('alt=\"')\n",
    "start_name_pos = page_adc_hero.find('\"',start_name)\n",
    "end_name_pos = page_adc_hero.find('\"',start_name_pos+1)\n",
    "\n",
    "print(page_adc_hero[start_name_pos+1:end_name_pos])"
   ]
  },
  {
   "cell_type": "code",
   "execution_count": 69,
   "metadata": {},
   "outputs": [],
   "source": [
    "def extract_heros(current_page):\n",
    "    start_link = current_page.find('img src=\"')\n",
    "    start_quote = current_page.find('\"',start_link)\n",
    "    end_quote = current_page.find('\"',start_quote+1)\n",
    "\n",
    "    print(current_page[start_quote+1:end_quote])\n",
    "\n",
    "    start_name = current_page.find('alt=\"')\n",
    "    start_name_pos = current_page.find('>',start_name)\n",
    "    end_name_pos = current_page.find('<',start_name_pos+1)\n",
    "\n",
    "    print(current_page[start_name_pos+1:end_name_pos])\n",
    "    \n",
    "    return end_name_pos"
   ]
  },
  {
   "cell_type": "code",
   "execution_count": 75,
   "metadata": {},
   "outputs": [
    {
     "name": "stdout",
     "output_type": "stream",
     "text": [
      "//game.gtimg.cn/images/yxzj/img201606/heroimg/524/524.jpg\n",
      "蒙犽\n",
      "185\n",
      "//game.gtimg.cn/images/yxzj/img201606/heroimg/508/508.jpg\n",
      "伽罗\n",
      "//game.gtimg.cn/images/yxzj/img201606/heroimg/199/199.jpg\n",
      "公孙离\n",
      "//game.gtimg.cn/images/yxzj/img201606/heroimg/196/196.jpg\n",
      "百里守约\n"
     ]
    }
   ],
   "source": [
    "tmp_page = page_adc_hero\n",
    "start_next = extract_heros(tmp_page)\n",
    "print(start_next)\n",
    "\n",
    "tmp_page = tmp_page[start_next:]\n",
    "start_next = extract_heros(tmp_page)\n",
    "\n",
    "tmp_page = tmp_page[start_next:]\n",
    "start_next = extract_heros(tmp_page)\n",
    "\n",
    "tmp_page = tmp_page[start_next:]\n",
    "start_next = extract_heros(tmp_page)"
   ]
  },
  {
   "cell_type": "markdown",
   "metadata": {},
   "source": [
    "# 函数"
   ]
  },
  {
   "cell_type": "code",
   "execution_count": 45,
   "metadata": {},
   "outputs": [
    {
     "name": "stdout",
     "output_type": "stream",
     "text": [
      "Hello\n",
      "None\n"
     ]
    }
   ],
   "source": [
    "def greet():\n",
    "    print(\"Hello\")\n",
    "    \n",
    "a= greet()\n",
    "print(a)"
   ]
  },
  {
   "cell_type": "code",
   "execution_count": 63,
   "metadata": {},
   "outputs": [
    {
     "name": "stdout",
     "output_type": "stream",
     "text": [
      "Hello jack 173 150\n",
      "None\n",
      "Hello rose 0 0\n",
      "None\n"
     ]
    }
   ],
   "source": [
    "def greet1(name, height=0, weight=0):\n",
    "    print(\"Hello {} {} {}\".format(name, height, weight))\n",
    "    \n",
    "b = greet1(\"jack\",\"173\",\"150\")\n",
    "print(b)\n",
    "b = greet1(\"rose\")\n",
    "print(b)"
   ]
  },
  {
   "cell_type": "code",
   "execution_count": 83,
   "metadata": {},
   "outputs": [
    {
     "name": "stdout",
     "output_type": "stream",
     "text": [
      "All of required  (1, 2, 3, 4, 5, 5, 6, 56)\n"
     ]
    },
    {
     "data": {
      "text/plain": [
       "tuple"
      ]
     },
     "execution_count": 83,
     "metadata": {},
     "output_type": "execute_result"
    }
   ],
   "source": [
    "def print_args(*args):\n",
    "    print(\"All of required \", args)\n",
    "    return args\n",
    "\n",
    "args = print_args(1,2,3,4,5,5,6,56)\n",
    "type(args)"
   ]
  },
  {
   "cell_type": "code",
   "execution_count": 93,
   "metadata": {},
   "outputs": [
    {
     "name": "stdout",
     "output_type": "stream",
     "text": [
      "All of required  {'first': 1, 'second': 2}\n",
      "Help on function print_args2 in module __main__:\n",
      "\n",
      "print_args2(**args)\n",
      "    说明这个方法是干嘛用的\n",
      "\n",
      "说明这个方法是干嘛用的\n"
     ]
    }
   ],
   "source": [
    "def print_args2(**args):\n",
    "    \"\"\"说明这个方法是干嘛用的\"\"\"\n",
    "    print(\"All of required \", args)\n",
    "    return args\n",
    "\n",
    "args = print_args2(first=1,second=2)\n",
    "type(args)\n",
    "help(print_args2)\n",
    "print(print_args2.__doc__)"
   ]
  },
  {
   "cell_type": "code",
   "execution_count": 2,
   "metadata": {},
   "outputs": [
    {
     "name": "stdout",
     "output_type": "stream",
     "text": [
      "jack\n"
     ]
    },
    {
     "data": {
      "text/plain": [
       "function"
      ]
     },
     "execution_count": 2,
     "metadata": {},
     "output_type": "execute_result"
    }
   ],
   "source": [
    "def hello_world(name):\n",
    "    print(name)\n",
    "fuc_a = hello_world\n",
    "fuc_a(\"jack\")\n",
    "type(fuc_a)"
   ]
  },
  {
   "cell_type": "markdown",
   "metadata": {},
   "source": [
    "# Lambda\n",
    "\n",
    "** lambda 参数1，参数2 : 执行的内容及返回值 **"
   ]
  },
  {
   "cell_type": "code",
   "execution_count": 4,
   "metadata": {},
   "outputs": [
    {
     "name": "stdout",
     "output_type": "stream",
     "text": [
      "8\n"
     ]
    }
   ],
   "source": [
    "def binary_operation(func, op1, op2):\n",
    "    return func(op1, op2)\n",
    "\n",
    "def mul(op1, op2):\n",
    "    return op1 * op2\n",
    "\n",
    "print(binary_operation(mul, 2, 4))"
   ]
  },
  {
   "cell_type": "code",
   "execution_count": 5,
   "metadata": {},
   "outputs": [
    {
     "data": {
      "text/plain": [
       "8"
      ]
     },
     "execution_count": 5,
     "metadata": {},
     "output_type": "execute_result"
    }
   ],
   "source": [
    "binary_operation(lambda op1,op2: op1 * op2, 2, 4)"
   ]
  },
  {
   "cell_type": "markdown",
   "metadata": {},
   "source": [
    "** 函数里面定义函数 **"
   ]
  },
  {
   "cell_type": "code",
   "execution_count": 6,
   "metadata": {},
   "outputs": [
    {
     "data": {
      "text/plain": [
       "27"
      ]
     },
     "execution_count": 6,
     "metadata": {},
     "output_type": "execute_result"
    }
   ],
   "source": [
    "def exp(a):\n",
    "    def exp2(b):\n",
    "        return a**b\n",
    "    return exp2\n",
    "\n",
    "square = exp(3)\n",
    "square(3)"
   ]
  },
  {
   "cell_type": "markdown",
   "metadata": {},
   "source": [
    "** 异常捕捉 **"
   ]
  },
  {
   "cell_type": "code",
   "execution_count": 10,
   "metadata": {},
   "outputs": [
    {
     "name": "stdout",
     "output_type": "stream",
     "text": [
      "hello\n",
      "Devision by zero\n",
      "jack\n"
     ]
    }
   ],
   "source": [
    "print(\"hello\")\n",
    "try:\n",
    "    1/0\n",
    "except ZeroDivisionError:\n",
    "    print(\"Devision by zero\")\n",
    "except:\n",
    "    print(\"error\")\n",
    "print(\"jack\")"
   ]
  },
  {
   "cell_type": "markdown",
   "metadata": {},
   "source": [
    "# Python 编码结构"
   ]
  },
  {
   "cell_type": "markdown",
   "metadata": {},
   "source": [
    "## if...elif..else"
   ]
  },
  {
   "cell_type": "code",
   "execution_count": 21,
   "metadata": {},
   "outputs": [
    {
     "name": "stdout",
     "output_type": "stream",
     "text": [
      "a > 0\n"
     ]
    }
   ],
   "source": [
    "c = 3\n",
    "if (c < 0):\n",
    "    print(\"a < 0\")\n",
    "elif(c == 0):\n",
    "    print(\"a = 0\")\n",
    "else:\n",
    "    print(\"a > 0\")"
   ]
  },
  {
   "cell_type": "markdown",
   "metadata": {},
   "source": [
    "## Python没有switch case\n",
    "## 但是如果非要做switch case可以这么操作"
   ]
  },
  {
   "cell_type": "code",
   "execution_count": 17,
   "metadata": {},
   "outputs": [
    {
     "name": "stdout",
     "output_type": "stream",
     "text": [
      "zero\n"
     ]
    }
   ],
   "source": [
    "def zero():\n",
    "    print(\"zero\")\n",
    "\n",
    "def one():\n",
    "    print(\"one\")\n",
    "\n",
    "def two():\n",
    "    print(\"two\")\n",
    "    \n",
    "option = {0 : zero,\n",
    "         1 : one,\n",
    "         2 : two,}\n",
    "\n",
    "option[0]()"
   ]
  },
  {
   "cell_type": "markdown",
   "metadata": {},
   "source": [
    "## While Loop"
   ]
  },
  {
   "cell_type": "code",
   "execution_count": 24,
   "metadata": {},
   "outputs": [
    {
     "name": "stdout",
     "output_type": "stream",
     "text": [
      "1\n",
      "2\n",
      "3\n",
      "4\n",
      "5\n",
      "finish\n"
     ]
    }
   ],
   "source": [
    "cnt = 1\n",
    "while cnt <= 5:\n",
    "    print(cnt)\n",
    "    cnt += 1\n",
    "print(\"finish\")"
   ]
  },
  {
   "cell_type": "code",
   "execution_count": 26,
   "metadata": {},
   "outputs": [
    {
     "name": "stdout",
     "output_type": "stream",
     "text": [
      "1\n",
      "Do you want to continue?[y:n]y\n",
      "finish\n"
     ]
    }
   ],
   "source": [
    "cnt = 1\n",
    "while True:\n",
    "    print(cnt)\n",
    "    ch = input(\"Do you want to continue?[y:n]\")\n",
    "    if ch == \"y\":\n",
    "        break\n",
    "print(\"finish\")"
   ]
  },
  {
   "cell_type": "code",
   "execution_count": 30,
   "metadata": {},
   "outputs": [
    {
     "name": "stdout",
     "output_type": "stream",
     "text": [
      "1\n",
      "2\n",
      "3\n",
      "4\n"
     ]
    }
   ],
   "source": [
    "cnt = 1\n",
    "while cnt <= 5:\n",
    "    print(cnt)\n",
    "    cnt += 1\n",
    "    if(cnt == 5):\n",
    "        break\n",
    "else:  #如果是while本身条件不成立就会执行else，如果是因为break则不会执行else\n",
    "    print(\"finish\")"
   ]
  },
  {
   "cell_type": "markdown",
   "metadata": {},
   "source": [
    "## For Loop"
   ]
  },
  {
   "cell_type": "code",
   "execution_count": 35,
   "metadata": {},
   "outputs": [
    {
     "name": "stdout",
     "output_type": "stream",
     "text": [
      "0\n",
      "1\n",
      "2\n",
      "3\n",
      "4\n",
      "normal\n"
     ]
    }
   ],
   "source": [
    "for i in range(5):\n",
    "    print( i )\n",
    "else:\n",
    "    print(\"normal\")"
   ]
  },
  {
   "cell_type": "code",
   "execution_count": 32,
   "metadata": {},
   "outputs": [],
   "source": [
    "?range\n",
    "#Return an object that produces a sequence of integers from start (inclusive)"
   ]
  },
  {
   "cell_type": "code",
   "execution_count": 33,
   "metadata": {},
   "outputs": [
    {
     "data": {
      "text/plain": [
       "range"
      ]
     },
     "execution_count": 33,
     "metadata": {},
     "output_type": "execute_result"
    }
   ],
   "source": [
    "type(range(10))"
   ]
  },
  {
   "cell_type": "markdown",
   "metadata": {},
   "source": [
    "** generator **"
   ]
  },
  {
   "cell_type": "code",
   "execution_count": 44,
   "metadata": {},
   "outputs": [],
   "source": [
    "def my_range(f = 0, last = 1, step = 1):\n",
    "    n = f\n",
    "    while n < last:\n",
    "        yield n\n",
    "        n += step"
   ]
  },
  {
   "cell_type": "code",
   "execution_count": 45,
   "metadata": {},
   "outputs": [
    {
     "data": {
      "text/plain": [
       "generator"
      ]
     },
     "execution_count": 45,
     "metadata": {},
     "output_type": "execute_result"
    }
   ],
   "source": [
    "my_num = my_range(0, 5)\n",
    "type(my_num)"
   ]
  },
  {
   "cell_type": "code",
   "execution_count": 46,
   "metadata": {},
   "outputs": [
    {
     "data": {
      "text/plain": [
       "10"
      ]
     },
     "execution_count": 46,
     "metadata": {},
     "output_type": "execute_result"
    }
   ],
   "source": [
    "sum(my_range(0, 5))"
   ]
  },
  {
   "cell_type": "code",
   "execution_count": 48,
   "metadata": {},
   "outputs": [
    {
     "name": "stdout",
     "output_type": "stream",
     "text": [
      "0\n",
      "1\n",
      "2\n",
      "3\n",
      "4\n"
     ]
    }
   ],
   "source": [
    "my_num = my_range(0, 5)\n",
    "for i in my_num:\n",
    "    print (i)"
   ]
  },
  {
   "cell_type": "markdown",
   "metadata": {},
   "source": [
    "## decorator 装饰器"
   ]
  },
  {
   "cell_type": "code",
   "execution_count": 49,
   "metadata": {},
   "outputs": [],
   "source": [
    "def should_log(func):\n",
    "    def func_with_log(*arg, **kwargs):\n",
    "        print(\"Calling:\",func.__name__)\n",
    "        return func(*arg, **kwargs)\n",
    "    return func_with_log"
   ]
  },
  {
   "cell_type": "code",
   "execution_count": 50,
   "metadata": {},
   "outputs": [],
   "source": [
    "def add(op1, op2):\n",
    "    return op1 + op2"
   ]
  },
  {
   "cell_type": "code",
   "execution_count": 51,
   "metadata": {},
   "outputs": [],
   "source": [
    "def operate(op1, op2):\n",
    "    print(func(1,2))"
   ]
  },
  {
   "cell_type": "code",
   "execution_count": 52,
   "metadata": {},
   "outputs": [
    {
     "name": "stdout",
     "output_type": "stream",
     "text": [
      "Calling: add\n"
     ]
    },
    {
     "data": {
      "text/plain": [
       "3"
      ]
     },
     "execution_count": 52,
     "metadata": {},
     "output_type": "execute_result"
    }
   ],
   "source": [
    "with_log = should_log(add)\n",
    "with_log(1,2)"
   ]
  },
  {
   "cell_type": "code",
   "execution_count": 54,
   "metadata": {},
   "outputs": [
    {
     "name": "stdout",
     "output_type": "stream",
     "text": [
      "Calling: sub\n"
     ]
    },
    {
     "data": {
      "text/plain": [
       "-1"
      ]
     },
     "execution_count": 54,
     "metadata": {},
     "output_type": "execute_result"
    }
   ],
   "source": [
    "@should_log\n",
    "def sub(op1, op2):\n",
    "    return op1 - op2\n",
    "\n",
    "sub(3,4)"
   ]
  },
  {
   "cell_type": "markdown",
   "metadata": {},
   "source": [
    "## Namespace & scope"
   ]
  },
  {
   "cell_type": "code",
   "execution_count": 55,
   "metadata": {},
   "outputs": [
    {
     "name": "stdout",
     "output_type": "stream",
     "text": [
      "5\n",
      "1\n"
     ]
    }
   ],
   "source": [
    "x = 1 #global x\n",
    "\n",
    "def new_x():\n",
    "    x = 5\n",
    "    print(x)\n",
    "\n",
    "new_x()\n",
    "print(x)"
   ]
  },
  {
   "cell_type": "code",
   "execution_count": 56,
   "metadata": {},
   "outputs": [
    {
     "name": "stdout",
     "output_type": "stream",
     "text": [
      "5\n",
      "5\n"
     ]
    }
   ],
   "source": [
    "x = 1\n",
    "\n",
    "def new_x():\n",
    "    global x\n",
    "    x = 5\n",
    "    print(x)\n",
    "\n",
    "new_x()\n",
    "print(x)"
   ]
  },
  {
   "cell_type": "markdown",
   "metadata": {},
   "source": [
    "## Use of __ in Name"
   ]
  },
  {
   "cell_type": "markdown",
   "metadata": {},
   "source": [
    "## 模块与程序包 Modules(一个文件)，Packages（一个文件夹里面有多个Modules）\n",
    "但是在Python3.3之前，packages需要在文件夹中添加一个__init__.py的文件才能够生效\n",
    "** 引用方式 **\n",
    "* import XXX as XXX\n",
    "* from XXX import XXX,XXX as XXX"
   ]
  },
  {
   "cell_type": "code",
   "execution_count": 1,
   "metadata": {},
   "outputs": [
    {
     "data": {
      "text/plain": [
       "['',\n",
       " 'D:\\\\D3V1l_HUN73R\\\\anaconda3\\\\python36.zip',\n",
       " 'D:\\\\D3V1l_HUN73R\\\\anaconda3\\\\DLLs',\n",
       " 'D:\\\\D3V1l_HUN73R\\\\anaconda3\\\\lib',\n",
       " 'D:\\\\D3V1l_HUN73R\\\\anaconda3',\n",
       " 'D:\\\\D3V1l_HUN73R\\\\anaconda3\\\\lib\\\\site-packages',\n",
       " 'D:\\\\D3V1l_HUN73R\\\\anaconda3\\\\lib\\\\site-packages\\\\win32',\n",
       " 'D:\\\\D3V1l_HUN73R\\\\anaconda3\\\\lib\\\\site-packages\\\\win32\\\\lib',\n",
       " 'D:\\\\D3V1l_HUN73R\\\\anaconda3\\\\lib\\\\site-packages\\\\Pythonwin',\n",
       " 'D:\\\\D3V1l_HUN73R\\\\anaconda3\\\\lib\\\\site-packages\\\\IPython\\\\extensions',\n",
       " 'C:\\\\Users\\\\D3V1l_HUN73R\\\\.ipython']"
      ]
     },
     "execution_count": 1,
     "metadata": {},
     "output_type": "execute_result"
    }
   ],
   "source": [
    "import sys\n",
    "sys.path"
   ]
  },
  {
   "cell_type": "markdown",
   "metadata": {},
   "source": [
    "# 基本数据结构"
   ]
  },
  {
   "cell_type": "markdown",
   "metadata": {},
   "source": [
    "<img src=\"./数据类型.png\">"
   ]
  },
  {
   "cell_type": "markdown",
   "metadata": {},
   "source": [
    "** mutable和immutable区别就是是否允许被改变，意思就是该类型的内容不能够被改变 **"
   ]
  },
  {
   "cell_type": "code",
   "execution_count": 47,
   "metadata": {},
   "outputs": [
    {
     "ename": "TypeError",
     "evalue": "'str' object does not support item assignment",
     "output_type": "error",
     "traceback": [
      "\u001b[1;31m---------------------------------------------------------------------------\u001b[0m",
      "\u001b[1;31mTypeError\u001b[0m                                 Traceback (most recent call last)",
      "\u001b[1;32m<ipython-input-47-25723113377c>\u001b[0m in \u001b[0;36m<module>\u001b[1;34m()\u001b[0m\n\u001b[0;32m      1\u001b[0m \u001b[0ms\u001b[0m \u001b[1;33m=\u001b[0m \u001b[1;34m\"Jack\"\u001b[0m\u001b[1;33m\u001b[0m\u001b[0m\n\u001b[1;32m----> 2\u001b[1;33m \u001b[0ms\u001b[0m\u001b[1;33m[\u001b[0m\u001b[1;36m0\u001b[0m\u001b[1;33m]\u001b[0m \u001b[1;33m=\u001b[0m \u001b[1;34m\"3\"\u001b[0m\u001b[1;33m\u001b[0m\u001b[0m\n\u001b[0m",
      "\u001b[1;31mTypeError\u001b[0m: 'str' object does not support item assignment"
     ]
    }
   ],
   "source": [
    "s = \"Jack\"\n",
    "s[0] = \"3\""
   ]
  },
  {
   "cell_type": "code",
   "execution_count": 110,
   "metadata": {},
   "outputs": [
    {
     "name": "stdout",
     "output_type": "stream",
     "text": [
      "1901887160392\n",
      "1901887160392\n",
      "1515900656\n",
      "1901887176752\n"
     ]
    }
   ],
   "source": [
    "#两者的id是相同的\n",
    "lista = []\n",
    "print(id(lista))\n",
    "\n",
    "def print_list_id(tmplist):\n",
    "    print(id(tmplist))\n",
    "    \n",
    "print_list_id(lista)\n",
    "\n",
    "#两者的id是不相同的\n",
    "\n",
    "s1 = \"Rose\"\n",
    "print(id(str))\n",
    "\n",
    "def print_str_id(str):\n",
    "    print(id(str))\n",
    "    \n",
    "print_str_id(s1)"
   ]
  },
  {
   "cell_type": "markdown",
   "metadata": {},
   "source": [
    "## container Types"
   ]
  },
  {
   "cell_type": "markdown",
   "metadata": {},
   "source": [
    "# List 允许修改"
   ]
  },
  {
   "cell_type": "code",
   "execution_count": 72,
   "metadata": {},
   "outputs": [],
   "source": [
    "empty_list = []\n",
    "list1 = ['day', 'month', 'year']\n",
    "list_of_list = [empty_list, list1]"
   ]
  },
  {
   "cell_type": "markdown",
   "metadata": {},
   "source": [
    "### delte"
   ]
  },
  {
   "cell_type": "code",
   "execution_count": 111,
   "metadata": {},
   "outputs": [
    {
     "name": "stdout",
     "output_type": "stream",
     "text": [
      "['month', 'year', 3]\n",
      "['a', 'b', 'd']\n",
      "['a', 'b', 'e', 'f']\n"
     ]
    },
    {
     "data": {
      "text/plain": [
       "True"
      ]
     },
     "execution_count": 111,
     "metadata": {},
     "output_type": "execute_result"
    }
   ],
   "source": [
    "list1 = ['day', 'month', 'year', 3]\n",
    "del list1[0]\n",
    "print(list1)\n",
    "\n",
    "list2 = ['a','b', 'd', 'e', 'f']\n",
    "del list2[3:]\n",
    "print(list2)\n",
    "\n",
    "list3 = ['a','b', 'd', 'e', 'f']\n",
    "list3.remove(\"d\")\n",
    "print(list3)\n",
    "\n",
    "\"a\" in list3"
   ]
  },
  {
   "cell_type": "markdown",
   "metadata": {},
   "source": [
    "### Expand"
   ]
  },
  {
   "cell_type": "code",
   "execution_count": 74,
   "metadata": {},
   "outputs": [
    {
     "name": "stdout",
     "output_type": "stream",
     "text": [
      "['a', 'b', 'd', 'e', 'f', 'g']\n",
      "['a', 'b', 'd', 'g', 'e', 'f', 'g']\n"
     ]
    }
   ],
   "source": [
    "list4 = ['a','b', 'd', 'e', 'f']\n",
    "list4.append(\"g\")\n",
    "print(list4)\n",
    "\n",
    "list4.insert(3,\"g\")\n",
    "print(list4)"
   ]
  },
  {
   "cell_type": "markdown",
   "metadata": {},
   "source": [
    "### pop"
   ]
  },
  {
   "cell_type": "code",
   "execution_count": 107,
   "metadata": {},
   "outputs": [
    {
     "name": "stdout",
     "output_type": "stream",
     "text": [
      "last_chr is  f the list5 is  ['a', 'b', 'd', 'e']\n"
     ]
    }
   ],
   "source": [
    "list5 = ['a','b', 'd', 'e', 'f']\n",
    "last_chr = list5.pop()\n",
    "print(\"last_chr is \",last_chr,\"the list5 is \",list5)"
   ]
  },
  {
   "cell_type": "markdown",
   "metadata": {},
   "source": [
    "### Sort"
   ]
  },
  {
   "cell_type": "code",
   "execution_count": 76,
   "metadata": {},
   "outputs": [
    {
     "name": "stdout",
     "output_type": "stream",
     "text": [
      "[1, 2, 3, 4, 5, 6]\n"
     ]
    }
   ],
   "source": [
    "nums = [1,4,5,6,2,3]\n",
    "nums.sort()\n",
    "print(nums)"
   ]
  },
  {
   "cell_type": "code",
   "execution_count": 77,
   "metadata": {},
   "outputs": [
    {
     "data": {
      "text/plain": [
       "[' ', 'd', 'e', 'h', 'l', 'l', 'l', 'o', 'o', 'r', 'w']"
      ]
     },
     "execution_count": 77,
     "metadata": {},
     "output_type": "execute_result"
    }
   ],
   "source": [
    "sorted(\"hello world\")"
   ]
  },
  {
   "cell_type": "markdown",
   "metadata": {},
   "source": [
    "## copy"
   ]
  },
  {
   "cell_type": "code",
   "execution_count": 3,
   "metadata": {},
   "outputs": [
    {
     "name": "stdout",
     "output_type": "stream",
     "text": [
      "a =  [2, 2, 3]\n",
      "b =  [2, 2, 3]\n",
      "c =  [1, 2, 3]\n",
      "d =  [1, 2, 3]\n"
     ]
    }
   ],
   "source": [
    "a = [1, 2, 3]\n",
    "\n",
    "b = a\n",
    "\n",
    "c = a.copy()\n",
    "d = a[:]\n",
    "e = list(a)\n",
    "\n",
    "a[0] = 2\n",
    "\n",
    "print(\"a = \", a)\n",
    "print(\"b = \", b)\n",
    "print(\"c = \", c)\n",
    "print(\"d = \", d)"
   ]
  },
  {
   "cell_type": "markdown",
   "metadata": {},
   "source": [
    "# Tuple 不允许修改"
   ]
  },
  {
   "cell_type": "code",
   "execution_count": 78,
   "metadata": {},
   "outputs": [
    {
     "data": {
      "text/plain": [
       "(1, 4, 5, 6, 2, 3)"
      ]
     },
     "execution_count": 78,
     "metadata": {},
     "output_type": "execute_result"
    }
   ],
   "source": [
    "nums2 = (1,4,5,6,2,3)\n",
    "nums2"
   ]
  },
  {
   "cell_type": "code",
   "execution_count": 80,
   "metadata": {},
   "outputs": [
    {
     "ename": "TypeError",
     "evalue": "'tuple' object does not support item assignment",
     "output_type": "error",
     "traceback": [
      "\u001b[1;31m---------------------------------------------------------------------------\u001b[0m",
      "\u001b[1;31mTypeError\u001b[0m                                 Traceback (most recent call last)",
      "\u001b[1;32m<ipython-input-80-e74d353811be>\u001b[0m in \u001b[0;36m<module>\u001b[1;34m()\u001b[0m\n\u001b[1;32m----> 1\u001b[1;33m \u001b[0mnums2\u001b[0m\u001b[1;33m[\u001b[0m\u001b[1;36m0\u001b[0m\u001b[1;33m]\u001b[0m \u001b[1;33m=\u001b[0m \u001b[1;36m7\u001b[0m\u001b[1;33m\u001b[0m\u001b[0m\n\u001b[0m",
      "\u001b[1;31mTypeError\u001b[0m: 'tuple' object does not support item assignment"
     ]
    }
   ],
   "source": [
    "nums2[0] = 7"
   ]
  },
  {
   "cell_type": "code",
   "execution_count": 25,
   "metadata": {},
   "outputs": [
    {
     "data": {
      "text/plain": [
       "(123, 456, 789)"
      ]
     },
     "execution_count": 25,
     "metadata": {},
     "output_type": "execute_result"
    }
   ],
   "source": [
    "123, 456, 789"
   ]
  },
  {
   "cell_type": "code",
   "execution_count": 26,
   "metadata": {},
   "outputs": [
    {
     "name": "stdout",
     "output_type": "stream",
     "text": [
      "a =  123\n",
      "b =  456\n",
      "c =  789\n"
     ]
    }
   ],
   "source": [
    "def Hello():\n",
    "    return 123, 456, 789\n",
    "\n",
    "a, b, c = Hello()\n",
    "\n",
    "print(\"a = \", a)\n",
    "print(\"b = \", b)\n",
    "print(\"c = \", c)"
   ]
  },
  {
   "cell_type": "code",
   "execution_count": 81,
   "metadata": {},
   "outputs": [
    {
     "name": "stdout",
     "output_type": "stream",
     "text": [
      "a =  1\n",
      "b =  1\n"
     ]
    }
   ],
   "source": [
    "a = 1\n",
    "b = 1\n",
    "a, b = b, a\n",
    "print(\"a = \", a)\n",
    "print(\"b = \", b)"
   ]
  },
  {
   "cell_type": "markdown",
   "metadata": {},
   "source": [
    "# Dict \n",
    "## 数据类型tuple也可以作为字典的key"
   ]
  },
  {
   "cell_type": "code",
   "execution_count": 38,
   "metadata": {},
   "outputs": [
    {
     "data": {
      "text/plain": [
       "{'crust': 'Thick',\n",
       " 'deliver': True,\n",
       " 'qty': 1,\n",
       " 'size': 'big',\n",
       " 'type': 'peperoni'}"
      ]
     },
     "execution_count": 38,
     "metadata": {},
     "output_type": "execute_result"
    }
   ],
   "source": [
    "pizza = {\n",
    "    \"size\" : \"small\",\n",
    "    \"size\" : \"big\",\n",
    "    \"type\" : \"peperoni\",\n",
    "    \"crust\" : \"Thick\",\n",
    "    \"qty\" : 1,\n",
    "    \"deliver\" : True,\n",
    "}\n",
    "pizza"
   ]
  },
  {
   "cell_type": "code",
   "execution_count": 39,
   "metadata": {},
   "outputs": [
    {
     "name": "stdout",
     "output_type": "stream",
     "text": [
      "peperoni\n",
      "dict_keys(['size', 'type', 'crust', 'qty', 'deliver'])\n",
      "dict_values(['big', 'peperoni', 'Thick', 1, True])\n",
      "dict_items([('size', 'big'), ('type', 'peperoni'), ('crust', 'Thick'), ('qty', 1), ('deliver', True)])\n",
      "{}\n"
     ]
    }
   ],
   "source": [
    "print(pizza[\"type\"])\n",
    "\n",
    "print(pizza.keys())\n",
    "print(pizza.values())\n",
    "print(pizza.items())\n",
    "\n",
    "pizza.clear()\n",
    "print(pizza)"
   ]
  },
  {
   "cell_type": "markdown",
   "metadata": {},
   "source": [
    "# Set 元素只有唯一的，不能重复"
   ]
  },
  {
   "cell_type": "code",
   "execution_count": 40,
   "metadata": {},
   "outputs": [
    {
     "data": {
      "text/plain": [
       "set()"
      ]
     },
     "execution_count": 40,
     "metadata": {},
     "output_type": "execute_result"
    }
   ],
   "source": [
    "empty_set = set()\n",
    "empty_set"
   ]
  },
  {
   "cell_type": "code",
   "execution_count": 4,
   "metadata": {},
   "outputs": [
    {
     "data": {
      "text/plain": [
       "{2, 4, 5, 6, 7}"
      ]
     },
     "execution_count": 4,
     "metadata": {},
     "output_type": "execute_result"
    }
   ],
   "source": [
    "event_set = {2,4,5,5,6,7}\n",
    "event_set"
   ]
  },
  {
   "cell_type": "code",
   "execution_count": 5,
   "metadata": {},
   "outputs": [
    {
     "data": {
      "text/plain": [
       "[2, 4, 5, 6, 7]"
      ]
     },
     "execution_count": 5,
     "metadata": {},
     "output_type": "execute_result"
    }
   ],
   "source": [
    "#可互相转换\n",
    "event_list = list(event_set)\n",
    "event_list"
   ]
  },
  {
   "cell_type": "markdown",
   "metadata": {},
   "source": [
    "# List Comprehensions\n",
    "** means it can be used to construct lists in a very natural, easy way, like a mathematician is used to do **\n",
    "\n",
    "Format: [expression for item in iterable]"
   ]
  },
  {
   "cell_type": "code",
   "execution_count": 89,
   "metadata": {},
   "outputs": [
    {
     "data": {
      "text/plain": [
       "[0, 1, 2, 3, 4, 5, 6, 7, 8, 9]"
      ]
     },
     "execution_count": 89,
     "metadata": {},
     "output_type": "execute_result"
    }
   ],
   "source": [
    "num_list = []\n",
    "for i in range(0, 10):\n",
    "    num_list.append(i)\n",
    "num_list"
   ]
  },
  {
   "cell_type": "code",
   "execution_count": 6,
   "metadata": {},
   "outputs": [
    {
     "data": {
      "text/plain": [
       "[1, 2, 3, 4, 5, 6, 7, 8, 9]"
      ]
     },
     "execution_count": 6,
     "metadata": {},
     "output_type": "execute_result"
    }
   ],
   "source": [
    "num_list = list(range(1,10))\n",
    "num_list"
   ]
  },
  {
   "cell_type": "code",
   "execution_count": 53,
   "metadata": {},
   "outputs": [
    {
     "data": {
      "text/plain": [
       "[0, 1, 2, 3, 4, 5, 6, 7, 8, 9]"
      ]
     },
     "execution_count": 53,
     "metadata": {},
     "output_type": "execute_result"
    }
   ],
   "source": [
    "num_list = [i for i in range(0, 10)]\n",
    "num_list"
   ]
  },
  {
   "cell_type": "code",
   "execution_count": 63,
   "metadata": {},
   "outputs": [
    {
     "data": {
      "text/plain": [
       "[1, 3, 5, 7, 9]"
      ]
     },
     "execution_count": 63,
     "metadata": {},
     "output_type": "execute_result"
    }
   ],
   "source": [
    "num_list = [i for i in range(0, 10) if i %2 == 1]\n",
    "num_list"
   ]
  },
  {
   "cell_type": "code",
   "execution_count": 60,
   "metadata": {
    "scrolled": true
   },
   "outputs": [
    {
     "data": {
      "text/plain": [
       "[(0, 0),\n",
       " (0, 1),\n",
       " (0, 2),\n",
       " (0, 3),\n",
       " (1, 0),\n",
       " (1, 1),\n",
       " (1, 2),\n",
       " (1, 3),\n",
       " (2, 0),\n",
       " (2, 1),\n",
       " (2, 2),\n",
       " (2, 3)]"
      ]
     },
     "execution_count": 60,
     "metadata": {},
     "output_type": "execute_result"
    }
   ],
   "source": [
    "num_list = [ (i, ii) for i in range(0, 3) for ii in range(0, 4)]\n",
    "num_list"
   ]
  },
  {
   "cell_type": "markdown",
   "metadata": {},
   "source": [
    "# 面向对象"
   ]
  },
  {
   "cell_type": "markdown",
   "metadata": {},
   "source": [
    "## Python没有重载，因为Python并不需要重载（具备重载的思想，但没有重载的定义）\n",
    "* 1、Python可以接受任何类型的参数，所以对于不同类型的参数，不需要多个函数来实现。\n",
    "* 2、Python可以通过缺省参数来处理不同数量的参数，所以也不需要多个函数来实现。"
   ]
  },
  {
   "cell_type": "markdown",
   "metadata": {},
   "source": [
    "## 继承"
   ]
  },
  {
   "cell_type": "code",
   "execution_count": 3,
   "metadata": {},
   "outputs": [
    {
     "name": "stdout",
     "output_type": "stream",
     "text": [
      "Ed says: Normal quote.\n",
      "Ed says: QuestionQuote quote?\n",
      "Ed says: ExclamationQuote quote!\n",
      "Ed says: Hi I am Edward\n"
     ]
    }
   ],
   "source": [
    "class Quote():\n",
    "    def __init__(self, person, words):\n",
    "        self.person = person\n",
    "        self.words = words\n",
    "    def who(self):\n",
    "        return self.person\n",
    "    def says(self):\n",
    "        return self.words + \".\"\n",
    "    \n",
    "class QuestionQuote(Quote):\n",
    "    def says(self):\n",
    "        return self.words + \"?\"\n",
    "    \n",
    "class ExclamationQuote(Quote):\n",
    "    def says(self):\n",
    "        return self.words + \"!\"\n",
    "\n",
    "def who_says(obj):\n",
    "    print(obj.who(), 'says:',obj.says())\n",
    "    \n",
    "\n",
    "q1 = Quote(\"Ed\", \"Normal quote\")\n",
    "q2 = QuestionQuote(\"Ed\", \"QuestionQuote quote\")\n",
    "q3 = ExclamationQuote(\"Ed\", \"ExclamationQuote quote\")\n",
    "\n",
    "#还有一个神奇的事情，就是不同的类，如果名字相同，也能调用出来同名的方法,这个叫做Duck Typing\n",
    "class Ed():\n",
    "    def who(self):\n",
    "        return \"Ed\"\n",
    "    def says(self):\n",
    "        return \"Hi I am Edward\"\n",
    "\n",
    "ed = Ed()\n",
    "quotes = [q1, q2, q3, ed]\n",
    "\n",
    "for q in quotes:\n",
    "    who_says(q)"
   ]
  },
  {
   "cell_type": "markdown",
   "metadata": {},
   "source": [
    "# Composition 组合"
   ]
  },
  {
   "cell_type": "code",
   "execution_count": 4,
   "metadata": {},
   "outputs": [
    {
     "data": {
      "text/plain": [
       "__main__.Tire"
      ]
     },
     "execution_count": 4,
     "metadata": {},
     "output_type": "execute_result"
    }
   ],
   "source": [
    "class Tire():\n",
    "    pass\n",
    "\n",
    "class Car():\n",
    "    def __init__(self):\n",
    "        self.left_front_tire = Tire()\n",
    "        \n",
    "car = Car()\n",
    "type(car.left_front_tire)"
   ]
  },
  {
   "cell_type": "markdown",
   "metadata": {},
   "source": [
    "## Python 所有成员都是public的，但是有很多方法都可以试图阻止外部修改"
   ]
  },
  {
   "cell_type": "markdown",
   "metadata": {},
   "source": []
  },
  {
   "cell_type": "code",
   "execution_count": 6,
   "metadata": {},
   "outputs": [
    {
     "name": "stdout",
     "output_type": "stream",
     "text": [
      "Edward Male\n"
     ]
    },
    {
     "data": {
      "text/plain": [
       "Person('Edward Male')"
      ]
     },
     "execution_count": 6,
     "metadata": {},
     "output_type": "execute_result"
    }
   ],
   "source": [
    "class Person():\n",
    "    def __init__(self, name, gender):\n",
    "        self.name = name\n",
    "        self.gender = gender\n",
    "\n",
    "#一般来说会重载下面两个方法去改写输出的内容方式\n",
    "    def __repr__(self):  #这个是直接写对象的时候，输出的结果\n",
    "        return \"Person('\"+self.name+\" \"+self.gender+\"')\"\n",
    "    \n",
    "    def __str__(self):#这个是使用print打印时候，输出的结果\n",
    "        return self.name +\" \"+self.gender\n",
    "    \n",
    "ed = Person(\"Edward\", \"Male\")\n",
    "print(ed)\n",
    "ed"
   ]
  }
 ],
 "metadata": {
  "kernelspec": {
   "display_name": "Python 3",
   "language": "python",
   "name": "python3"
  },
  "language_info": {
   "codemirror_mode": {
    "name": "ipython",
    "version": 3
   },
   "file_extension": ".py",
   "mimetype": "text/x-python",
   "name": "python",
   "nbconvert_exporter": "python",
   "pygments_lexer": "ipython3",
   "version": "3.6.4"
  }
 },
 "nbformat": 4,
 "nbformat_minor": 2
}
