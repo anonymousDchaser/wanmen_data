{
 "cells": [
  {
   "cell_type": "markdown",
   "metadata": {},
   "source": [
    "# 函数铺垫"
   ]
  },
  {
   "cell_type": "code",
   "execution_count": 36,
   "metadata": {
    "scrolled": true
   },
   "outputs": [
    {
     "name": "stdout",
     "output_type": "stream",
     "text": [
      "//game.gtimg.cn/images/yxzj/img201606/heroimg/524/524.jpg\n",
      "蒙犽\n"
     ]
    }
   ],
   "source": [
    "page_adc_hero = '''<ul class=\"herolist clearfix\">\n",
    "<li><a href=\"herodetail/524.shtml\" target=\"_blank\"><img src=\"//game.gtimg.cn/images/yxzj/img201606/heroimg/524/524.jpg\" width=\"91\" height=\"91\" alt=\"蒙犽\">蒙犽</a></li>\n",
    "<li><a href=\"herodetail/508.shtml\" target=\"_blank\"><img src=\"//game.gtimg.cn/images/yxzj/img201606/heroimg/508/508.jpg\" width=\"91\" height=\"91\" alt=\"伽罗\">伽罗</a></li>\n",
    "<li><a href=\"herodetail/199.shtml\" target=\"_blank\"><img src=\"//game.gtimg.cn/images/yxzj/img201606/heroimg/199/199.jpg\" width=\"91\" height=\"91\" alt=\"公孙离\">公孙离</a></li>\n",
    "<li><a href=\"herodetail/196.shtml\" target=\"_blank\"><img src=\"//game.gtimg.cn/images/yxzj/img201606/heroimg/196/196.jpg\" width=\"91\" height=\"91\" alt=\"百里守约\">百里守约</a></li>\n",
    "<li><a href=\"herodetail/192.shtml\" target=\"_blank\"><img src=\"//game.gtimg.cn/images/yxzj/img201606/heroimg/192/192.jpg\" width=\"91\" height=\"91\" alt=\"黄忠\">黄忠</a></li>\n",
    "<li><a href=\"herodetail/177.shtml\" target=\"_blank\"><img src=\"//game.gtimg.cn/images/yxzj/img201606/heroimg/177/177.jpg\" width=\"91\" height=\"91\" alt=\"成吉思汗\">成吉思汗</a></li>\n",
    "<li><a href=\"herodetail/174.shtml\" target=\"_blank\"><img src=\"//game.gtimg.cn/images/yxzj/img201606/heroimg/174/174.jpg\" width=\"91\" height=\"91\" alt=\"虞姬\">虞姬</a></li>\n",
    "<li><a href=\"herodetail/173.shtml\" target=\"_blank\"><img src=\"//game.gtimg.cn/images/yxzj/img201606/heroimg/173/173.jpg\" width=\"91\" height=\"91\" alt=\"李元芳\">李元芳</a></li>\n",
    "<li><a href=\"herodetail/169.shtml\" target=\"_blank\"><img src=\"//game.gtimg.cn/images/yxzj/img201606/heroimg/169/169.jpg\" width=\"91\" height=\"91\" alt=\"后羿\">后羿</a></li>\n",
    "<li><a href=\"herodetail/133.shtml\" target=\"_blank\"><img src=\"//game.gtimg.cn/images/yxzj/img201606/heroimg/133/133.jpg\" width=\"91\" height=\"91\" alt=\"狄仁杰\">狄仁杰</a></li>\n",
    "<li><a href=\"herodetail/132.shtml\" target=\"_blank\"><img src=\"//game.gtimg.cn/images/yxzj/img201606/heroimg/132/132.jpg\" width=\"91\" height=\"91\" alt=\"马可波罗\">马可波罗</a></li>\n",
    "<li><a href=\"herodetail/112.shtml\" target=\"_blank\"><img src=\"//game.gtimg.cn/images/yxzj/img201606/heroimg/112/112.jpg\" width=\"91\" height=\"91\" alt=\"鲁班七号\">鲁班七号</a></li>\n",
    "<li><a href=\"herodetail/111.shtml\" target=\"_blank\"><img src=\"//game.gtimg.cn/images/yxzj/img201606/heroimg/111/111.jpg\" width=\"91\" height=\"91\" alt=\"孙尚香\">孙尚香</a></li></ul>'''\n",
    "start_link = page_adc_hero.find('img src=\"')\n",
    "start_quote = page_adc_hero.find('\"',start_link)\n",
    "end_quote = page_adc_hero.find('\"',start_quote+1)\n",
    "\n",
    "print(page_adc_hero[start_quote+1:end_quote])\n",
    "\n",
    "start_name = page_adc_hero.find('alt=\"')\n",
    "start_name_pos = page_adc_hero.find('\"',start_name)\n",
    "end_name_pos = page_adc_hero.find('\"',start_name_pos+1)\n",
    "\n",
    "print(page_adc_hero[start_name_pos+1:end_name_pos])"
   ]
  },
  {
   "cell_type": "code",
   "execution_count": 69,
   "metadata": {},
   "outputs": [],
   "source": [
    "def extract_heros(current_page):\n",
    "    start_link = current_page.find('img src=\"')\n",
    "    start_quote = current_page.find('\"',start_link)\n",
    "    end_quote = current_page.find('\"',start_quote+1)\n",
    "\n",
    "    print(current_page[start_quote+1:end_quote])\n",
    "\n",
    "    start_name = current_page.find('alt=\"')\n",
    "    start_name_pos = current_page.find('>',start_name)\n",
    "    end_name_pos = current_page.find('<',start_name_pos+1)\n",
    "\n",
    "    print(current_page[start_name_pos+1:end_name_pos])\n",
    "    \n",
    "    return end_name_pos"
   ]
  },
  {
   "cell_type": "code",
   "execution_count": 75,
   "metadata": {},
   "outputs": [
    {
     "name": "stdout",
     "output_type": "stream",
     "text": [
      "//game.gtimg.cn/images/yxzj/img201606/heroimg/524/524.jpg\n",
      "蒙犽\n",
      "185\n",
      "//game.gtimg.cn/images/yxzj/img201606/heroimg/508/508.jpg\n",
      "伽罗\n",
      "//game.gtimg.cn/images/yxzj/img201606/heroimg/199/199.jpg\n",
      "公孙离\n",
      "//game.gtimg.cn/images/yxzj/img201606/heroimg/196/196.jpg\n",
      "百里守约\n"
     ]
    }
   ],
   "source": [
    "tmp_page = page_adc_hero\n",
    "start_next = extract_heros(tmp_page)\n",
    "print(start_next)\n",
    "\n",
    "tmp_page = tmp_page[start_next:]\n",
    "start_next = extract_heros(tmp_page)\n",
    "\n",
    "tmp_page = tmp_page[start_next:]\n",
    "start_next = extract_heros(tmp_page)\n",
    "\n",
    "tmp_page = tmp_page[start_next:]\n",
    "start_next = extract_heros(tmp_page)"
   ]
  },
  {
   "cell_type": "markdown",
   "metadata": {},
   "source": [
    "# 函数"
   ]
  },
  {
   "cell_type": "code",
   "execution_count": 45,
   "metadata": {},
   "outputs": [
    {
     "name": "stdout",
     "output_type": "stream",
     "text": [
      "Hello\n",
      "None\n"
     ]
    }
   ],
   "source": [
    "def greet():\n",
    "    print(\"Hello\")\n",
    "    \n",
    "a= greet()\n",
    "print(a)"
   ]
  },
  {
   "cell_type": "code",
   "execution_count": 63,
   "metadata": {},
   "outputs": [
    {
     "name": "stdout",
     "output_type": "stream",
     "text": [
      "Hello jack 173 150\n",
      "None\n",
      "Hello rose 0 0\n",
      "None\n"
     ]
    }
   ],
   "source": [
    "def greet1(name, height=0, weight=0):\n",
    "    print(\"Hello {} {} {}\".format(name, height, weight))\n",
    "    \n",
    "b = greet1(\"jack\",\"173\",\"150\")\n",
    "print(b)\n",
    "b = greet1(\"rose\")\n",
    "print(b)"
   ]
  },
  {
   "cell_type": "code",
   "execution_count": 83,
   "metadata": {},
   "outputs": [
    {
     "name": "stdout",
     "output_type": "stream",
     "text": [
      "All of required  (1, 2, 3, 4, 5, 5, 6, 56)\n"
     ]
    },
    {
     "data": {
      "text/plain": [
       "tuple"
      ]
     },
     "execution_count": 83,
     "metadata": {},
     "output_type": "execute_result"
    }
   ],
   "source": [
    "def print_args(*args):\n",
    "    print(\"All of required \", args)\n",
    "    return args\n",
    "\n",
    "args = print_args(1,2,3,4,5,5,6,56)\n",
    "type(args)"
   ]
  },
  {
   "cell_type": "code",
   "execution_count": 93,
   "metadata": {},
   "outputs": [
    {
     "name": "stdout",
     "output_type": "stream",
     "text": [
      "All of required  {'first': 1, 'second': 2}\n",
      "Help on function print_args2 in module __main__:\n",
      "\n",
      "print_args2(**args)\n",
      "    说明这个方法是干嘛用的\n",
      "\n",
      "说明这个方法是干嘛用的\n"
     ]
    }
   ],
   "source": [
    "def print_args2(**args):\n",
    "    \"\"\"说明这个方法是干嘛用的\"\"\"\n",
    "    print(\"All of required \", args)\n",
    "    return args\n",
    "\n",
    "args = print_args2(first=1,second=2)\n",
    "type(args)\n",
    "help(print_args2)\n",
    "print(print_args2.__doc__)"
   ]
  },
  {
   "cell_type": "code",
   "execution_count": 2,
   "metadata": {},
   "outputs": [
    {
     "name": "stdout",
     "output_type": "stream",
     "text": [
      "jack\n"
     ]
    },
    {
     "data": {
      "text/plain": [
       "function"
      ]
     },
     "execution_count": 2,
     "metadata": {},
     "output_type": "execute_result"
    }
   ],
   "source": [
    "def hello_world(name):\n",
    "    print(name)\n",
    "fuc_a = hello_world\n",
    "fuc_a(\"jack\")\n",
    "type(fuc_a)"
   ]
  },
  {
   "cell_type": "markdown",
   "metadata": {},
   "source": [
    "# Lambda\n",
    "\n",
    "** lambda 参数1，参数2 : 执行的内容及返回值 **"
   ]
  },
  {
   "cell_type": "code",
   "execution_count": 4,
   "metadata": {},
   "outputs": [
    {
     "name": "stdout",
     "output_type": "stream",
     "text": [
      "8\n"
     ]
    }
   ],
   "source": [
    "def binary_operation(func, op1, op2):\n",
    "    return func(op1, op2)\n",
    "\n",
    "def mul(op1, op2):\n",
    "    return op1 * op2\n",
    "\n",
    "print(binary_operation(mul, 2, 4))"
   ]
  },
  {
   "cell_type": "code",
   "execution_count": 5,
   "metadata": {},
   "outputs": [
    {
     "data": {
      "text/plain": [
       "8"
      ]
     },
     "execution_count": 5,
     "metadata": {},
     "output_type": "execute_result"
    }
   ],
   "source": [
    "binary_operation(lambda op1,op2: op1 * op2, 2, 4)"
   ]
  },
  {
   "cell_type": "markdown",
   "metadata": {},
   "source": [
    "** 函数里面定义函数 **"
   ]
  },
  {
   "cell_type": "code",
   "execution_count": 6,
   "metadata": {},
   "outputs": [
    {
     "data": {
      "text/plain": [
       "27"
      ]
     },
     "execution_count": 6,
     "metadata": {},
     "output_type": "execute_result"
    }
   ],
   "source": [
    "def exp(a):\n",
    "    def exp2(b):\n",
    "        return a**b\n",
    "    return exp2\n",
    "\n",
    "square = exp(3)\n",
    "square(3)"
   ]
  },
  {
   "cell_type": "markdown",
   "metadata": {},
   "source": [
    "** 异常捕捉 **"
   ]
  },
  {
   "cell_type": "code",
   "execution_count": 10,
   "metadata": {},
   "outputs": [
    {
     "name": "stdout",
     "output_type": "stream",
     "text": [
      "hello\n",
      "Devision by zero\n",
      "jack\n"
     ]
    }
   ],
   "source": [
    "print(\"hello\")\n",
    "try:\n",
    "    1/0\n",
    "except ZeroDivisionError:\n",
    "    print(\"Devision by zero\")\n",
    "except:\n",
    "    print(\"error\")\n",
    "print(\"jack\")"
   ]
  },
  {
   "cell_type": "markdown",
   "metadata": {},
   "source": [
    "# Python 编码结构"
   ]
  },
  {
   "cell_type": "markdown",
   "metadata": {},
   "source": [
    "## if...elif..else"
   ]
  },
  {
   "cell_type": "code",
   "execution_count": 21,
   "metadata": {},
   "outputs": [
    {
     "name": "stdout",
     "output_type": "stream",
     "text": [
      "a > 0\n"
     ]
    }
   ],
   "source": [
    "c = 3\n",
    "if (c < 0):\n",
    "    print(\"a < 0\")\n",
    "elif(c == 0):\n",
    "    print(\"a = 0\")\n",
    "else:\n",
    "    print(\"a > 0\")"
   ]
  },
  {
   "cell_type": "markdown",
   "metadata": {},
   "source": [
    "## Python没有switch case\n",
    "## 但是如果非要做switch case可以这么操作"
   ]
  },
  {
   "cell_type": "code",
   "execution_count": 17,
   "metadata": {},
   "outputs": [
    {
     "name": "stdout",
     "output_type": "stream",
     "text": [
      "zero\n"
     ]
    }
   ],
   "source": [
    "def zero():\n",
    "    print(\"zero\")\n",
    "\n",
    "def one():\n",
    "    print(\"one\")\n",
    "\n",
    "def two():\n",
    "    print(\"two\")\n",
    "    \n",
    "option = {0 : zero,\n",
    "         1 : one,\n",
    "         2 : two,}\n",
    "\n",
    "option[0]()"
   ]
  },
  {
   "cell_type": "markdown",
   "metadata": {},
   "source": [
    "## While Loop"
   ]
  },
  {
   "cell_type": "code",
   "execution_count": 24,
   "metadata": {},
   "outputs": [
    {
     "name": "stdout",
     "output_type": "stream",
     "text": [
      "1\n",
      "2\n",
      "3\n",
      "4\n",
      "5\n",
      "finish\n"
     ]
    }
   ],
   "source": [
    "cnt = 1\n",
    "while cnt <= 5:\n",
    "    print(cnt)\n",
    "    cnt += 1\n",
    "print(\"finish\")"
   ]
  },
  {
   "cell_type": "code",
   "execution_count": 26,
   "metadata": {},
   "outputs": [
    {
     "name": "stdout",
     "output_type": "stream",
     "text": [
      "1\n",
      "Do you want to continue?[y:n]y\n",
      "finish\n"
     ]
    }
   ],
   "source": [
    "cnt = 1\n",
    "while True:\n",
    "    print(cnt)\n",
    "    ch = input(\"Do you want to continue?[y:n]\")\n",
    "    if ch == \"y\":\n",
    "        break\n",
    "print(\"finish\")"
   ]
  },
  {
   "cell_type": "code",
   "execution_count": 30,
   "metadata": {},
   "outputs": [
    {
     "name": "stdout",
     "output_type": "stream",
     "text": [
      "1\n",
      "2\n",
      "3\n",
      "4\n"
     ]
    }
   ],
   "source": [
    "cnt = 1\n",
    "while cnt <= 5:\n",
    "    print(cnt)\n",
    "    cnt += 1\n",
    "    if(cnt == 5):\n",
    "        break\n",
    "else:  #如果是while本身条件不成立就会执行else，如果是因为break则不会执行else\n",
    "    print(\"finish\")"
   ]
  },
  {
   "cell_type": "markdown",
   "metadata": {},
   "source": [
    "## For Loop"
   ]
  },
  {
   "cell_type": "code",
   "execution_count": 35,
   "metadata": {},
   "outputs": [
    {
     "name": "stdout",
     "output_type": "stream",
     "text": [
      "0\n",
      "1\n",
      "2\n",
      "3\n",
      "4\n",
      "normal\n"
     ]
    }
   ],
   "source": [
    "for i in range(5):\n",
    "    print( i )\n",
    "else:\n",
    "    print(\"normal\")"
   ]
  },
  {
   "cell_type": "code",
   "execution_count": 32,
   "metadata": {},
   "outputs": [],
   "source": [
    "?range\n",
    "#Return an object that produces a sequence of integers from start (inclusive)"
   ]
  },
  {
   "cell_type": "code",
   "execution_count": 33,
   "metadata": {},
   "outputs": [
    {
     "data": {
      "text/plain": [
       "range"
      ]
     },
     "execution_count": 33,
     "metadata": {},
     "output_type": "execute_result"
    }
   ],
   "source": [
    "type(range(10))"
   ]
  },
  {
   "cell_type": "markdown",
   "metadata": {},
   "source": [
    "** generator **"
   ]
  },
  {
   "cell_type": "code",
   "execution_count": 44,
   "metadata": {},
   "outputs": [],
   "source": [
    "def my_range(f = 0, last = 1, step = 1):\n",
    "    n = f\n",
    "    while n < last:\n",
    "        yield n\n",
    "        n += step"
   ]
  },
  {
   "cell_type": "code",
   "execution_count": 45,
   "metadata": {},
   "outputs": [
    {
     "data": {
      "text/plain": [
       "generator"
      ]
     },
     "execution_count": 45,
     "metadata": {},
     "output_type": "execute_result"
    }
   ],
   "source": [
    "my_num = my_range(0, 5)\n",
    "type(my_num)"
   ]
  },
  {
   "cell_type": "code",
   "execution_count": 46,
   "metadata": {},
   "outputs": [
    {
     "data": {
      "text/plain": [
       "10"
      ]
     },
     "execution_count": 46,
     "metadata": {},
     "output_type": "execute_result"
    }
   ],
   "source": [
    "sum(my_range(0, 5))"
   ]
  },
  {
   "cell_type": "code",
   "execution_count": 48,
   "metadata": {},
   "outputs": [
    {
     "name": "stdout",
     "output_type": "stream",
     "text": [
      "0\n",
      "1\n",
      "2\n",
      "3\n",
      "4\n"
     ]
    }
   ],
   "source": [
    "my_num = my_range(0, 5)\n",
    "for i in my_num:\n",
    "    print (i)"
   ]
  },
  {
   "cell_type": "markdown",
   "metadata": {},
   "source": [
    "## decorator 装饰器"
   ]
  },
  {
   "cell_type": "code",
   "execution_count": 49,
   "metadata": {},
   "outputs": [],
   "source": [
    "def should_log(func):\n",
    "    def func_with_log(*arg, **kwargs):\n",
    "        print(\"Calling:\",func.__name__)\n",
    "        return func(*arg, **kwargs)\n",
    "    return func_with_log"
   ]
  },
  {
   "cell_type": "code",
   "execution_count": 50,
   "metadata": {},
   "outputs": [],
   "source": [
    "def add(op1, op2):\n",
    "    return op1 + op2"
   ]
  },
  {
   "cell_type": "code",
   "execution_count": 51,
   "metadata": {},
   "outputs": [],
   "source": [
    "def operate(op1, op2):\n",
    "    print(func(1,2))"
   ]
  },
  {
   "cell_type": "code",
   "execution_count": 52,
   "metadata": {},
   "outputs": [
    {
     "name": "stdout",
     "output_type": "stream",
     "text": [
      "Calling: add\n"
     ]
    },
    {
     "data": {
      "text/plain": [
       "3"
      ]
     },
     "execution_count": 52,
     "metadata": {},
     "output_type": "execute_result"
    }
   ],
   "source": [
    "with_log = should_log(add)\n",
    "with_log(1,2)"
   ]
  },
  {
   "cell_type": "code",
   "execution_count": 54,
   "metadata": {},
   "outputs": [
    {
     "name": "stdout",
     "output_type": "stream",
     "text": [
      "Calling: sub\n"
     ]
    },
    {
     "data": {
      "text/plain": [
       "-1"
      ]
     },
     "execution_count": 54,
     "metadata": {},
     "output_type": "execute_result"
    }
   ],
   "source": [
    "@should_log\n",
    "def sub(op1, op2):\n",
    "    return op1 - op2\n",
    "\n",
    "sub(3,4)"
   ]
  },
  {
   "cell_type": "markdown",
   "metadata": {},
   "source": [
    "## Namespace & scope"
   ]
  },
  {
   "cell_type": "code",
   "execution_count": 55,
   "metadata": {},
   "outputs": [
    {
     "name": "stdout",
     "output_type": "stream",
     "text": [
      "5\n",
      "1\n"
     ]
    }
   ],
   "source": [
    "x = 1 #global x\n",
    "\n",
    "def new_x():\n",
    "    x = 5\n",
    "    print(x)\n",
    "\n",
    "new_x()\n",
    "print(x)"
   ]
  },
  {
   "cell_type": "code",
   "execution_count": 56,
   "metadata": {},
   "outputs": [
    {
     "name": "stdout",
     "output_type": "stream",
     "text": [
      "5\n",
      "5\n"
     ]
    }
   ],
   "source": [
    "x = 1\n",
    "\n",
    "def new_x():\n",
    "    global x\n",
    "    x = 5\n",
    "    print(x)\n",
    "\n",
    "new_x()\n",
    "print(x)"
   ]
  },
  {
   "cell_type": "markdown",
   "metadata": {},
   "source": [
    "## Use of __ in Name"
   ]
  },
  {
   "cell_type": "code",
   "execution_count": null,
   "metadata": {},
   "outputs": [],
   "source": []
  },
  {
   "cell_type": "code",
   "execution_count": null,
   "metadata": {},
   "outputs": [],
   "source": []
  },
  {
   "cell_type": "code",
   "execution_count": null,
   "metadata": {},
   "outputs": [],
   "source": []
  }
 ],
 "metadata": {
  "kernelspec": {
   "display_name": "Python 3",
   "language": "python",
   "name": "python3"
  },
  "language_info": {
   "codemirror_mode": {
    "name": "ipython",
    "version": 3
   },
   "file_extension": ".py",
   "mimetype": "text/x-python",
   "name": "python",
   "nbconvert_exporter": "python",
   "pygments_lexer": "ipython3",
   "version": "3.6.4"
  }
 },
 "nbformat": 4,
 "nbformat_minor": 2
}
