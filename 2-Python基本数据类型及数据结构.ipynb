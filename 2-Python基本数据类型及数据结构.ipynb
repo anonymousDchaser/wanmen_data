{
 "cells": [
  {
   "cell_type": "markdown",
   "metadata": {},
   "source": [
    "How Big Is an int? In Python3 can handle any integer no mater how large it is without causing overflow"
   ]
  },
  {
   "cell_type": "markdown",
   "metadata": {},
   "source": [
    "**是次方，//是求商"
   ]
  },
  {
   "cell_type": "markdown",
   "metadata": {},
   "source": [
    "二进制0b,八进制0o,十六进制ox"
   ]
  },
  {
   "cell_type": "code",
   "execution_count": 2,
   "metadata": {},
   "outputs": [
    {
     "name": "stdout",
     "output_type": "stream",
     "text": [
      "3.141592653589793\n",
      "2.718281828459045\n",
      "98\n",
      "99\n",
      "27.0\n",
      "27\n",
      "5.0\n"
     ]
    }
   ],
   "source": [
    "import math\n",
    "print(math.pi)\n",
    "print(math.e)\n",
    "print(math.floor(98.6))\n",
    "print(math.ceil(98.6))\n",
    "print(math.pow(3, 3)) #pow always return a float,指数\n",
    "print(3**3)\n",
    "print(math.sqrt(25))"
   ]
  },
  {
   "cell_type": "code",
   "execution_count": 3,
   "metadata": {},
   "outputs": [],
   "source": [
    "?math"
   ]
  },
  {
   "cell_type": "markdown",
   "metadata": {},
   "source": [
    "布尔类型，or,not,and,==,!=,  True是1， False是0"
   ]
  },
  {
   "cell_type": "code",
   "execution_count": 8,
   "metadata": {},
   "outputs": [
    {
     "name": "stdout",
     "output_type": "stream",
     "text": [
      "\n",
      "aaaaabbbbb\n",
      "    cccccccddddd\n",
      "\n"
     ]
    },
    {
     "data": {
      "text/plain": [
       "'\\naaaaabbbbb\\n    cccccccddddd\\n'"
      ]
     },
     "execution_count": 8,
     "metadata": {},
     "output_type": "execute_result"
    }
   ],
   "source": [
    "s = '''\n",
    "aaaaabbbbb\n",
    "    cccccccddddd\n",
    "'''\n",
    "print(s)\n",
    "s"
   ]
  },
  {
   "cell_type": "code",
   "execution_count": 13,
   "metadata": {},
   "outputs": [
    {
     "name": "stdout",
     "output_type": "stream",
     "text": [
      "Ha Ha Ha \n"
     ]
    },
    {
     "data": {
      "text/plain": [
       "'Ha Ha Ha '"
      ]
     },
     "execution_count": 13,
     "metadata": {},
     "output_type": "execute_result"
    }
   ],
   "source": [
    "laugh = 3 * \"Ha \"\n",
    "print(laugh)\n",
    "laugh"
   ]
  },
  {
   "cell_type": "code",
   "execution_count": 14,
   "metadata": {},
   "outputs": [
    {
     "data": {
      "text/plain": [
       "'11111'"
      ]
     },
     "execution_count": 14,
     "metadata": {},
     "output_type": "execute_result"
    }
   ],
   "source": [
    "str(11111) #类型转换"
   ]
  },
  {
   "cell_type": "code",
   "execution_count": 21,
   "metadata": {},
   "outputs": [
    {
     "name": "stdout",
     "output_type": "stream",
     "text": [
      "26\n",
      "z\n"
     ]
    },
    {
     "data": {
      "text/plain": [
       "'a'"
      ]
     },
     "execution_count": 21,
     "metadata": {},
     "output_type": "execute_result"
    }
   ],
   "source": [
    "letters = \"abcdefghijklmnopqrstuvwsyz\"\n",
    "print(len(letters))\n",
    "print(letters [-1]) #支持下标访问\n",
    "letters[0]"
   ]
  },
  {
   "cell_type": "markdown",
   "metadata": {},
   "source": [
    "# 字符串的切片操作\n",
    "\n",
    "Format----->[start:end:step]\n",
    "\n",
    "* [:] **ALL String**\n",
    "\n",
    "* [start:] **from start to the end**\n",
    "\n",
    "* [:end] **from the beginning to the end-1 offset**\n",
    "\n",
    "* [start:end] **from start to end-1**\n",
    "\n",
    "* [start:end:step] **from start to end-1, skipping characters by step**"
   ]
  },
  {
   "cell_type": "code",
   "execution_count": 29,
   "metadata": {},
   "outputs": [
    {
     "name": "stdout",
     "output_type": "stream",
     "text": [
      "abc\n",
      "cdefghijklmnopqrstuvwsyz\n",
      "yz\n"
     ]
    }
   ],
   "source": [
    "print(letters[0:3])  #左闭右开[0,3)\n",
    "print(letters[2:])\n",
    "print(letters[-2:])"
   ]
  },
  {
   "cell_type": "code",
   "execution_count": 31,
   "metadata": {},
   "outputs": [
    {
     "data": {
      "text/plain": [
       "'acegikmoqsuwy'"
      ]
     },
     "execution_count": 31,
     "metadata": {},
     "output_type": "execute_result"
    }
   ],
   "source": [
    "letters[::2] #从头开始，步长为2，即每隔两个取一个，即走两步取第二步那个"
   ]
  },
  {
   "cell_type": "code",
   "execution_count": 32,
   "metadata": {},
   "outputs": [
    {
     "data": {
      "text/plain": [
       "'zyswvutsrqponmlkjihgfedcba'"
      ]
     },
     "execution_count": 32,
     "metadata": {},
     "output_type": "execute_result"
    }
   ],
   "source": [
    "letters[::-1] #输出一个字符串的逆序"
   ]
  },
  {
   "cell_type": "markdown",
   "metadata": {},
   "source": [
    "# Split & Combine"
   ]
  },
  {
   "cell_type": "code",
   "execution_count": 33,
   "metadata": {},
   "outputs": [
    {
     "data": {
      "text/plain": [
       "['python', 'ruby', 'c', 'c++', 'swift']"
      ]
     },
     "execution_count": 33,
     "metadata": {},
     "output_type": "execute_result"
    }
   ],
   "source": [
    "lan = \"python ruby c c++ swift\"\n",
    "lan.split()"
   ]
  },
  {
   "cell_type": "code",
   "execution_count": 35,
   "metadata": {},
   "outputs": [
    {
     "data": {
      "text/plain": [
       "['python', ' ruby', ' c c++', ' swift']"
      ]
     },
     "execution_count": 35,
     "metadata": {},
     "output_type": "execute_result"
    }
   ],
   "source": [
    "lan = \"python, ruby, c c++, swift\"\n",
    "lan.split(\",\")"
   ]
  },
  {
   "cell_type": "code",
   "execution_count": 36,
   "metadata": {},
   "outputs": [
    {
     "data": {
      "text/plain": [
       "'python, ruby, c c++, swift'"
      ]
     },
     "execution_count": 36,
     "metadata": {},
     "output_type": "execute_result"
    }
   ],
   "source": [
    "','.join(['python', ' ruby', ' c c++', ' swift'])  #拼接字符串，用‘，’把分开的字符串接成一个字符串"
   ]
  },
  {
   "cell_type": "markdown",
   "metadata": {},
   "source": [
    "# Substitue"
   ]
  },
  {
   "cell_type": "code",
   "execution_count": 43,
   "metadata": {},
   "outputs": [
    {
     "name": "stdout",
     "output_type": "stream",
     "text": [
      "i like python, i like C++\n",
      "i like python, i hate C++\n"
     ]
    }
   ],
   "source": [
    "s = \"i hate python, i hate C++\"\n",
    "print(s.replace(\"hate\", \"like\"))\n",
    "print(s.replace(\"hate\", \"like\", 1))"
   ]
  },
  {
   "cell_type": "markdown",
   "metadata": {},
   "source": [
    "# Layout"
   ]
  },
  {
   "cell_type": "markdown",
   "metadata": {},
   "source": [
    "# Other useful tools   可浏览Python的官方Doc，找到对应版本就能找到方法的使用"
   ]
  },
  {
   "cell_type": "code",
   "execution_count": 70,
   "metadata": {},
   "outputs": [
    {
     "name": "stdout",
     "output_type": "stream",
     "text": [
      "True\n",
      "True\n",
      "False\n",
      "24\n",
      "e\n",
      "False\n",
      "False\n",
      "3\n",
      "2\n",
      "23456。7\n",
      "123456。71\n",
      "I HATE PYTHON, I 2 HATE C++.\n",
      "I Hate Python, I 2 Hate C++.\n"
     ]
    }
   ],
   "source": [
    "str2 = \"i hate python, i 2 hate C++.\"\n",
    "print(str2.startswith(\"i\"))\n",
    "print(str2.endswith(\"C++.\"))\n",
    "print(str2.endswith(\"C++\"))\n",
    "\n",
    "print(str2.find(\"C++\"))\n",
    "\n",
    "print(str2[22])\n",
    "\n",
    "print(str2.isalnum())\n",
    "\n",
    "str3 = \"123456。71\"\n",
    "print(str3.isalnum())\n",
    "\n",
    "print(str2.count(\"h\"))\n",
    "print(str2.count(\"hate\")) #计算字符串出现多少次\n",
    "\n",
    "print(str3.strip(\"1\")) #去除前后的某个字符\n",
    "print(str3.strip(\"2\"))\n",
    "\n",
    "print(str2.upper())\n",
    "print(str2.title())"
   ]
  },
  {
   "cell_type": "markdown",
   "metadata": {},
   "source": [
    "# 比较通用的标准规范是PEP8"
   ]
  },
  {
   "cell_type": "markdown",
   "metadata": {},
   "source": [
    "# 命名规范\n",
    "\n",
    "<img src =\"./命名规范.png\">"
   ]
  },
  {
   "cell_type": "markdown",
   "metadata": {},
   "source": [
    "# 推荐基础书籍 《Python 语言及其应用》"
   ]
  },
  {
   "cell_type": "markdown",
   "metadata": {},
   "source": [
    "# in and out"
   ]
  },
  {
   "cell_type": "code",
   "execution_count": 5,
   "metadata": {},
   "outputs": [
    {
     "name": "stdout",
     "output_type": "stream",
     "text": [
      "how old are you11\n",
      "how tall are you175\n",
      "so , you are 11 old, 175 tall\n",
      "so , you are 11 old, 175 tall\n",
      "so , you are 11 old, 175 tall\n"
     ]
    }
   ],
   "source": [
    "age = input(\"how old are you\")\n",
    "height = input(\"how tall are you\")\n",
    "print(\"so , you are %s old, %s tall\" % (age, height))\n",
    "print(\"so , you are {} old, {} tall\".format(age, height))  #这种比较好，能够自动识别类型\n",
    "print(\"so , you are {first} old, {second} tall\".format(first = age, second = height))    "
   ]
  },
  {
   "cell_type": "code",
   "execution_count": 6,
   "metadata": {},
   "outputs": [
    {
     "name": "stdout",
     "output_type": "stream",
     "text": [
      "Five plus ten is 15 and not 52\n"
     ]
    }
   ],
   "source": [
    "a = 5\n",
    "b = 10\n",
    "print(f\"Five plus ten is {a+b} and not {2+ a*b}\") #带f表示后面的是一个模板"
   ]
  }
 ],
 "metadata": {
  "kernelspec": {
   "display_name": "Python 3",
   "language": "python",
   "name": "python3"
  },
  "language_info": {
   "codemirror_mode": {
    "name": "ipython",
    "version": 3
   },
   "file_extension": ".py",
   "mimetype": "text/x-python",
   "name": "python",
   "nbconvert_exporter": "python",
   "pygments_lexer": "ipython3",
   "version": "3.6.4"
  }
 },
 "nbformat": 4,
 "nbformat_minor": 2
}
